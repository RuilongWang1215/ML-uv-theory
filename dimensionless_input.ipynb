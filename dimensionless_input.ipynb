{
 "cells": [
  {
   "cell_type": "code",
   "execution_count": 20,
   "id": "c2eac34c-34a3-4b9d-a0ec-80489413d99e",
   "metadata": {
    "tags": []
   },
   "outputs": [],
   "source": [
    "from feos.si import * # Can be installed via pip install feos\n",
    "import pandas as pd"
   ]
  },
  {
   "cell_type": "markdown",
   "id": "7ea7f4df-272d-4920-b043-5df9de75a1a6",
   "metadata": {},
   "source": [
    "# Water"
   ]
  },
  {
   "cell_type": "code",
   "execution_count": 21,
   "id": "c9a07b5f-2add-43a8-b020-abf582630a10",
   "metadata": {
    "tags": []
   },
   "outputs": [],
   "source": [
    "# Water\n",
    "\t\n",
    "nu_water = 20\n",
    "sigma_water = 3.00143591 * ANGSTROM\n",
    "eps_k_water = 398.302260 * KELVIN #epsilon/KB\n",
    "kappa_ab_water = 0.0588848599\n",
    "eps_ab_water = 2699.63068"
   ]
  },
  {
   "cell_type": "code",
   "execution_count": 22,
   "id": "8bd832ce-b529-43af-91b3-466c2f66bfe9",
   "metadata": {
    "tags": []
   },
   "outputs": [],
   "source": [
    "data = pd.read_csv('real_ufrac_water.csv')"
   ]
  },
  {
   "cell_type": "code",
   "execution_count": 23,
   "id": "a1bc5802-2d0e-4014-a4b6-7fb5d75a195d",
   "metadata": {
    "tags": []
   },
   "outputs": [
    {
     "data": {
      "text/html": [
       "<div>\n",
       "<style scoped>\n",
       "    .dataframe tbody tr th:only-of-type {\n",
       "        vertical-align: middle;\n",
       "    }\n",
       "\n",
       "    .dataframe tbody tr th {\n",
       "        vertical-align: top;\n",
       "    }\n",
       "\n",
       "    .dataframe thead th {\n",
       "        text-align: right;\n",
       "    }\n",
       "</style>\n",
       "<table border=\"1\" class=\"dataframe\">\n",
       "  <thead>\n",
       "    <tr style=\"text-align: right;\">\n",
       "      <th></th>\n",
       "      <th>Unnamed: 0</th>\n",
       "      <th>temperature</th>\n",
       "      <th>density</th>\n",
       "      <th>real_ufrac</th>\n",
       "      <th>delta_phi</th>\n",
       "      <th>stable</th>\n",
       "      <th>pres</th>\n",
       "    </tr>\n",
       "  </thead>\n",
       "  <tbody>\n",
       "    <tr>\n",
       "      <th>0</th>\n",
       "      <td>0</td>\n",
       "      <td>275</td>\n",
       "      <td>55878.787879</td>\n",
       "      <td>1.028297</td>\n",
       "      <td>0.033922</td>\n",
       "      <td>1</td>\n",
       "      <td>-1140.404937</td>\n",
       "    </tr>\n",
       "    <tr>\n",
       "      <th>1</th>\n",
       "      <td>1</td>\n",
       "      <td>275</td>\n",
       "      <td>56439.393939</td>\n",
       "      <td>1.032663</td>\n",
       "      <td>0.037796</td>\n",
       "      <td>1</td>\n",
       "      <td>-940.644580</td>\n",
       "    </tr>\n",
       "    <tr>\n",
       "      <th>2</th>\n",
       "      <td>2</td>\n",
       "      <td>275</td>\n",
       "      <td>57000.000000</td>\n",
       "      <td>1.036487</td>\n",
       "      <td>0.041168</td>\n",
       "      <td>1</td>\n",
       "      <td>-730.254795</td>\n",
       "    </tr>\n",
       "    <tr>\n",
       "      <th>3</th>\n",
       "      <td>3</td>\n",
       "      <td>345</td>\n",
       "      <td>54757.575758</td>\n",
       "      <td>1.104154</td>\n",
       "      <td>0.110896</td>\n",
       "      <td>1</td>\n",
       "      <td>-1342.822157</td>\n",
       "    </tr>\n",
       "    <tr>\n",
       "      <th>4</th>\n",
       "      <td>4</td>\n",
       "      <td>345</td>\n",
       "      <td>55318.181818</td>\n",
       "      <td>1.103953</td>\n",
       "      <td>0.110113</td>\n",
       "      <td>1</td>\n",
       "      <td>-1111.372196</td>\n",
       "    </tr>\n",
       "  </tbody>\n",
       "</table>\n",
       "</div>"
      ],
      "text/plain": [
       "   Unnamed: 0  temperature       density  real_ufrac  delta_phi  stable  \\\n",
       "0           0          275  55878.787879    1.028297   0.033922       1   \n",
       "1           1          275  56439.393939    1.032663   0.037796       1   \n",
       "2           2          275  57000.000000    1.036487   0.041168       1   \n",
       "3           3          345  54757.575758    1.104154   0.110896       1   \n",
       "4           4          345  55318.181818    1.103953   0.110113       1   \n",
       "\n",
       "          pres  \n",
       "0 -1140.404937  \n",
       "1  -940.644580  \n",
       "2  -730.254795  \n",
       "3 -1342.822157  \n",
       "4 -1111.372196  "
      ]
     },
     "execution_count": 23,
     "metadata": {},
     "output_type": "execute_result"
    }
   ],
   "source": [
    "data.head()"
   ]
  },
  {
   "cell_type": "code",
   "execution_count": 31,
   "id": "da821665-8fee-4097-9cd3-9ef046de7bef",
   "metadata": {
    "tags": []
   },
   "outputs": [],
   "source": [
    "data['dimensionless_densities'] = data.density.values * MOL / METER**3 * NAV * sigma_water**3\n",
    "data['dimensionless_temperatures'] = data.temperature.values / (eps_k_water / KELVIN)"
   ]
  },
  {
   "cell_type": "code",
   "execution_count": 33,
   "id": "3756fd14-fe81-4d57-a3f1-6818a14d7e88",
   "metadata": {
    "tags": []
   },
   "outputs": [
    {
     "data": {
      "text/html": [
       "<div>\n",
       "<style scoped>\n",
       "    .dataframe tbody tr th:only-of-type {\n",
       "        vertical-align: middle;\n",
       "    }\n",
       "\n",
       "    .dataframe tbody tr th {\n",
       "        vertical-align: top;\n",
       "    }\n",
       "\n",
       "    .dataframe thead th {\n",
       "        text-align: right;\n",
       "    }\n",
       "</style>\n",
       "<table border=\"1\" class=\"dataframe\">\n",
       "  <thead>\n",
       "    <tr style=\"text-align: right;\">\n",
       "      <th></th>\n",
       "      <th>Unnamed: 0</th>\n",
       "      <th>temperature</th>\n",
       "      <th>density</th>\n",
       "      <th>real_ufrac</th>\n",
       "      <th>delta_phi</th>\n",
       "      <th>stable</th>\n",
       "      <th>pres</th>\n",
       "      <th>dimensionless_densities</th>\n",
       "      <th>dimensionless_temperatures</th>\n",
       "    </tr>\n",
       "  </thead>\n",
       "  <tbody>\n",
       "    <tr>\n",
       "      <th>0</th>\n",
       "      <td>0</td>\n",
       "      <td>275</td>\n",
       "      <td>55878.787879</td>\n",
       "      <td>1.028297</td>\n",
       "      <td>0.033922</td>\n",
       "      <td>1</td>\n",
       "      <td>-1140.404937</td>\n",
       "      <td>0.909882</td>\n",
       "      <td>0.690430</td>\n",
       "    </tr>\n",
       "    <tr>\n",
       "      <th>1</th>\n",
       "      <td>1</td>\n",
       "      <td>275</td>\n",
       "      <td>56439.393939</td>\n",
       "      <td>1.032663</td>\n",
       "      <td>0.037796</td>\n",
       "      <td>1</td>\n",
       "      <td>-940.644580</td>\n",
       "      <td>0.919010</td>\n",
       "      <td>0.690430</td>\n",
       "    </tr>\n",
       "    <tr>\n",
       "      <th>2</th>\n",
       "      <td>2</td>\n",
       "      <td>275</td>\n",
       "      <td>57000.000000</td>\n",
       "      <td>1.036487</td>\n",
       "      <td>0.041168</td>\n",
       "      <td>1</td>\n",
       "      <td>-730.254795</td>\n",
       "      <td>0.928139</td>\n",
       "      <td>0.690430</td>\n",
       "    </tr>\n",
       "    <tr>\n",
       "      <th>3</th>\n",
       "      <td>3</td>\n",
       "      <td>345</td>\n",
       "      <td>54757.575758</td>\n",
       "      <td>1.104154</td>\n",
       "      <td>0.110896</td>\n",
       "      <td>1</td>\n",
       "      <td>-1342.822157</td>\n",
       "      <td>0.891625</td>\n",
       "      <td>0.866176</td>\n",
       "    </tr>\n",
       "    <tr>\n",
       "      <th>4</th>\n",
       "      <td>4</td>\n",
       "      <td>345</td>\n",
       "      <td>55318.181818</td>\n",
       "      <td>1.103953</td>\n",
       "      <td>0.110113</td>\n",
       "      <td>1</td>\n",
       "      <td>-1111.372196</td>\n",
       "      <td>0.900754</td>\n",
       "      <td>0.866176</td>\n",
       "    </tr>\n",
       "  </tbody>\n",
       "</table>\n",
       "</div>"
      ],
      "text/plain": [
       "   Unnamed: 0  temperature       density  real_ufrac  delta_phi  stable  \\\n",
       "0           0          275  55878.787879    1.028297   0.033922       1   \n",
       "1           1          275  56439.393939    1.032663   0.037796       1   \n",
       "2           2          275  57000.000000    1.036487   0.041168       1   \n",
       "3           3          345  54757.575758    1.104154   0.110896       1   \n",
       "4           4          345  55318.181818    1.103953   0.110113       1   \n",
       "\n",
       "          pres  dimensionless_densities  dimensionless_temperatures  \n",
       "0 -1140.404937                 0.909882                    0.690430  \n",
       "1  -940.644580                 0.919010                    0.690430  \n",
       "2  -730.254795                 0.928139                    0.690430  \n",
       "3 -1342.822157                 0.891625                    0.866176  \n",
       "4 -1111.372196                 0.900754                    0.866176  "
      ]
     },
     "execution_count": 33,
     "metadata": {},
     "output_type": "execute_result"
    }
   ],
   "source": [
    "data.head()"
   ]
  },
  {
   "cell_type": "code",
   "execution_count": null,
   "id": "951284e5-1c20-42c4-9af2-46983087b3bd",
   "metadata": {},
   "outputs": [],
   "source": []
  }
 ],
 "metadata": {
  "kernelspec": {
   "display_name": "Python 3 (ipykernel)",
   "language": "python",
   "name": "python3"
  },
  "language_info": {
   "codemirror_mode": {
    "name": "ipython",
    "version": 3
   },
   "file_extension": ".py",
   "mimetype": "text/x-python",
   "name": "python",
   "nbconvert_exporter": "python",
   "pygments_lexer": "ipython3",
   "version": "3.11.5"
  }
 },
 "nbformat": 4,
 "nbformat_minor": 5
}
